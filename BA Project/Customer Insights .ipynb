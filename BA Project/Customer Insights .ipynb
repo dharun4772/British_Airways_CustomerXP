{
 "cells": [
  {
   "cell_type": "code",
   "execution_count": 1,
   "id": "b05d98ef",
   "metadata": {},
   "outputs": [
    {
     "data": {
      "text/html": [
       "<div>\n",
       "<style scoped>\n",
       "    .dataframe tbody tr th:only-of-type {\n",
       "        vertical-align: middle;\n",
       "    }\n",
       "\n",
       "    .dataframe tbody tr th {\n",
       "        vertical-align: top;\n",
       "    }\n",
       "\n",
       "    .dataframe thead th {\n",
       "        text-align: right;\n",
       "    }\n",
       "</style>\n",
       "<table border=\"1\" class=\"dataframe\">\n",
       "  <thead>\n",
       "    <tr style=\"text-align: right;\">\n",
       "      <th></th>\n",
       "      <th>Unnamed: 0</th>\n",
       "      <th>rating</th>\n",
       "      <th>header</th>\n",
       "      <th>date</th>\n",
       "      <th>place</th>\n",
       "      <th>content</th>\n",
       "      <th>aircraft</th>\n",
       "      <th>traveller_type</th>\n",
       "      <th>seat_type</th>\n",
       "      <th>route</th>\n",
       "      <th>...</th>\n",
       "      <th>cabin_staff_service</th>\n",
       "      <th>food_beverages</th>\n",
       "      <th>ground_service</th>\n",
       "      <th>value_for_money</th>\n",
       "      <th>recommended</th>\n",
       "      <th>entertainment</th>\n",
       "      <th>trip_verified</th>\n",
       "      <th>year</th>\n",
       "      <th>year_flown</th>\n",
       "      <th>temp_col</th>\n",
       "    </tr>\n",
       "  </thead>\n",
       "  <tbody>\n",
       "    <tr>\n",
       "      <th>0</th>\n",
       "      <td>0</td>\n",
       "      <td>2</td>\n",
       "      <td>service was mediocre at best</td>\n",
       "      <td>2023-10-03</td>\n",
       "      <td>United Kingdom</td>\n",
       "      <td>Just returned from Chicago, flew out 10 days ...</td>\n",
       "      <td>A380</td>\n",
       "      <td>Couple Leisure</td>\n",
       "      <td>Economy Class</td>\n",
       "      <td>Chicago to Manchester via Heathrow</td>\n",
       "      <td>...</td>\n",
       "      <td>3</td>\n",
       "      <td>1</td>\n",
       "      <td>2</td>\n",
       "      <td>2</td>\n",
       "      <td>no</td>\n",
       "      <td>-1</td>\n",
       "      <td>Not Verified</td>\n",
       "      <td>2023</td>\n",
       "      <td>2023</td>\n",
       "      <td>Couple Leisure|Economy Class</td>\n",
       "    </tr>\n",
       "    <tr>\n",
       "      <th>1</th>\n",
       "      <td>1</td>\n",
       "      <td>2</td>\n",
       "      <td>BA standards continue to decline</td>\n",
       "      <td>2023-10-02</td>\n",
       "      <td>United Kingdom</td>\n",
       "      <td>BA standards continue to decline every time ...</td>\n",
       "      <td>A320</td>\n",
       "      <td>Business</td>\n",
       "      <td>Business Class</td>\n",
       "      <td>London Heathrow to Munich</td>\n",
       "      <td>...</td>\n",
       "      <td>1</td>\n",
       "      <td>2</td>\n",
       "      <td>1</td>\n",
       "      <td>1</td>\n",
       "      <td>no</td>\n",
       "      <td>-1</td>\n",
       "      <td>Verified</td>\n",
       "      <td>2023</td>\n",
       "      <td>2023</td>\n",
       "      <td>Business|Business Class</td>\n",
       "    </tr>\n",
       "    <tr>\n",
       "      <th>2</th>\n",
       "      <td>2</td>\n",
       "      <td>2</td>\n",
       "      <td>won the race to the bottom\"</td>\n",
       "      <td>2023-10-02</td>\n",
       "      <td>United Kingdom</td>\n",
       "      <td>Awful. Business class check in queue just as...</td>\n",
       "      <td>A320</td>\n",
       "      <td>Couple Leisure</td>\n",
       "      <td>Business Class</td>\n",
       "      <td>Heathrow to Istanbul</td>\n",
       "      <td>...</td>\n",
       "      <td>3</td>\n",
       "      <td>2</td>\n",
       "      <td>1</td>\n",
       "      <td>1</td>\n",
       "      <td>no</td>\n",
       "      <td>-1</td>\n",
       "      <td>Not Verified</td>\n",
       "      <td>2023</td>\n",
       "      <td>2023</td>\n",
       "      <td>Couple Leisure|Business Class</td>\n",
       "    </tr>\n",
       "    <tr>\n",
       "      <th>3</th>\n",
       "      <td>3</td>\n",
       "      <td>3</td>\n",
       "      <td>Not a reliable airline</td>\n",
       "      <td>2023-10-02</td>\n",
       "      <td>United Kingdom</td>\n",
       "      <td>Not a reliable airline. You cannot trust the...</td>\n",
       "      <td>A320</td>\n",
       "      <td>Business</td>\n",
       "      <td>Economy Class</td>\n",
       "      <td>London to Geneva</td>\n",
       "      <td>...</td>\n",
       "      <td>4</td>\n",
       "      <td>2</td>\n",
       "      <td>1</td>\n",
       "      <td>1</td>\n",
       "      <td>no</td>\n",
       "      <td>-1</td>\n",
       "      <td>Verified</td>\n",
       "      <td>2023</td>\n",
       "      <td>2023</td>\n",
       "      <td>Business|Economy Class</td>\n",
       "    </tr>\n",
       "    <tr>\n",
       "      <th>4</th>\n",
       "      <td>4</td>\n",
       "      <td>1</td>\n",
       "      <td>It is a national disgrace</td>\n",
       "      <td>2023-09-30</td>\n",
       "      <td>United Kingdom</td>\n",
       "      <td>I take comfort in reading the last ten or so...</td>\n",
       "      <td>NaN</td>\n",
       "      <td>Couple Leisure</td>\n",
       "      <td>Business Class</td>\n",
       "      <td>Athens to London</td>\n",
       "      <td>...</td>\n",
       "      <td>1</td>\n",
       "      <td>1</td>\n",
       "      <td>1</td>\n",
       "      <td>1</td>\n",
       "      <td>no</td>\n",
       "      <td>1</td>\n",
       "      <td>Verified</td>\n",
       "      <td>2023</td>\n",
       "      <td>2023</td>\n",
       "      <td>Couple Leisure|Business Class</td>\n",
       "    </tr>\n",
       "  </tbody>\n",
       "</table>\n",
       "<p>5 rows × 22 columns</p>\n",
       "</div>"
      ],
      "text/plain": [
       "   Unnamed: 0  rating                            header        date  \\\n",
       "0           0       2      service was mediocre at best  2023-10-03   \n",
       "1           1       2  BA standards continue to decline  2023-10-02   \n",
       "2           2       2      won the race to the bottom\"   2023-10-02   \n",
       "3           3       3            Not a reliable airline  2023-10-02   \n",
       "4           4       1         It is a national disgrace  2023-09-30   \n",
       "\n",
       "            place                                            content aircraft  \\\n",
       "0  United Kingdom   Just returned from Chicago, flew out 10 days ...     A380   \n",
       "1  United Kingdom    BA standards continue to decline every time ...     A320   \n",
       "2  United Kingdom    Awful. Business class check in queue just as...     A320   \n",
       "3  United Kingdom    Not a reliable airline. You cannot trust the...     A320   \n",
       "4  United Kingdom    I take comfort in reading the last ten or so...      NaN   \n",
       "\n",
       "   traveller_type       seat_type                               route  ...  \\\n",
       "0  Couple Leisure   Economy Class  Chicago to Manchester via Heathrow  ...   \n",
       "1        Business  Business Class           London Heathrow to Munich  ...   \n",
       "2  Couple Leisure  Business Class                Heathrow to Istanbul  ...   \n",
       "3        Business   Economy Class                    London to Geneva  ...   \n",
       "4  Couple Leisure  Business Class                    Athens to London  ...   \n",
       "\n",
       "  cabin_staff_service  food_beverages  ground_service  value_for_money  \\\n",
       "0                   3               1               2                2   \n",
       "1                   1               2               1                1   \n",
       "2                   3               2               1                1   \n",
       "3                   4               2               1                1   \n",
       "4                   1               1               1                1   \n",
       "\n",
       "   recommended  entertainment trip_verified  year year_flown  \\\n",
       "0           no             -1  Not Verified  2023       2023   \n",
       "1           no             -1      Verified  2023       2023   \n",
       "2           no             -1  Not Verified  2023       2023   \n",
       "3           no             -1      Verified  2023       2023   \n",
       "4           no              1      Verified  2023       2023   \n",
       "\n",
       "                        temp_col  \n",
       "0   Couple Leisure|Economy Class  \n",
       "1        Business|Business Class  \n",
       "2  Couple Leisure|Business Class  \n",
       "3         Business|Economy Class  \n",
       "4  Couple Leisure|Business Class  \n",
       "\n",
       "[5 rows x 22 columns]"
      ]
     },
     "execution_count": 1,
     "metadata": {},
     "output_type": "execute_result"
    }
   ],
   "source": [
    "import pandas as pd\n",
    "import numpy as np\n",
    "import matplotlib.pyplot as plt\n",
    "ba_data= pd.read_csv(\"E:/BA/airline_review_cleaned.csv\")\n",
    "ba_data.head()"
   ]
  },
  {
   "cell_type": "code",
   "execution_count": 4,
   "id": "0bb20604",
   "metadata": {},
   "outputs": [
    {
     "data": {
      "text/plain": [
       "5"
      ]
     },
     "execution_count": 4,
     "metadata": {},
     "output_type": "execute_result"
    }
   ],
   "source": [
    "#The average rating on 10 given by customers\n",
    "round(ba_data.rating.mean())"
   ]
  },
  {
   "cell_type": "code",
   "execution_count": 9,
   "id": "609b7202",
   "metadata": {},
   "outputs": [
    {
     "data": {
      "image/png": "[encoded data removed]",
      "text/plain": [
       "<Figure size 640x480 with 1 Axes>"
      ]
     },
     "metadata": {},
     "output_type": "display_data"
    }
   ],
   "source": [
    "#Distribtuion of rating\n",
    "ba_data.rating.hist()\n",
    "plt.show()"
   ]
  },
  {
   "cell_type": "code",
   "execution_count": 13,
   "id": "e0fb218c",
   "metadata": {},
   "outputs": [
    {
     "data": {
      "text/plain": [
       "<Axes: >"
      ]
     },
     "execution_count": 13,
     "metadata": {},
     "output_type": "execute_result"
    },
    {
     "data": {
      "image/png": "[encoded data removed]",
      "text/plain": [
       "<Figure size 640x480 with 1 Axes>"
      ]
     },
     "metadata": {},
     "output_type": "display_data"
    }
   ],
   "source": [
    "ba_data.food_beverages.hist()"
   ]
  }
 ],
 "metadata": {
  "kernelspec": {
   "display_name": "Python 3 (ipykernel)",
   "language": "python",
   "name": "python3"
  },
  "language_info": {
   "codemirror_mode": {
    "name": "ipython",
    "version": 3
   },
   "file_extension": ".py",
   "mimetype": "text/x-python",
   "name": "python",
   "nbconvert_exporter": "python",
   "pygments_lexer": "ipython3",
   "version": "3.11.4"
  }
 },
 "nbformat": 4,
 "nbformat_minor": 5
}
