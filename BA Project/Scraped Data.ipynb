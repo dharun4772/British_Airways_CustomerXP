{
 "cells": [
  {
   "cell_type": "code",
   "execution_count": 1,
   "id": "1ba09afb",
   "metadata": {},
   "outputs": [],
   "source": [
    "from bs4 import BeautifulSoup\n",
    "import requests\n",
    "import re"
   ]
  },
  {
   "cell_type": "markdown",
   "id": "88b436ee",
   "metadata": {},
   "source": [
    "Airline Data"
   ]
  },
  {
   "cell_type": "code",
   "execution_count": 2,
   "id": "d7a7ac62",
   "metadata": {},
   "outputs": [],
   "source": [
    "url ='https://www.airlinequality.com/airline-reviews/british-airways'\n",
    "page= requests.get(url)\n",
    "soup= BeautifulSoup(page.content,\"html.parser\")"
   ]
  },
  {
   "cell_type": "code",
   "execution_count": 3,
   "id": "99e067cf",
   "metadata": {},
   "outputs": [],
   "source": [
    "rating, header,author, date, place, verification, content, collect=[],[],[],[],[],[],[],[]\n",
    "urls=[url]\n",
    "c=1\n",
    "while(soup!=None):\n",
    "    articles = soup.find_all(\"article\", attrs={'class':re.compile('comp comp_media-review-rated list-item media position-content review-[0-9]*')})\n",
    "    for article in articles:\n",
    "        if(article.find(\"div\",class_='rating-10').find('span') is None):\n",
    "            rating.append(None)\n",
    "        else:\n",
    "            rating.append(article.find(\"div\",class_='rating-10').find('span').text)\n",
    "        if(article.find(\"div\",class_='body').find('h2') is None):\n",
    "            header.append(None)\n",
    "        else:\n",
    "            header.append(article.find(\"div\",class_='body').find('h2').text.strip(\"\\\"\"))\n",
    "        if(article.find(\"div\",class_='body').find('span',itemprop='author').find('span') is None):\n",
    "            author.append(None)\n",
    "        else:\n",
    "            author.append(article.find(\"div\",class_='body').find('span',itemprop='author').find('span').text)\n",
    "        if(article.find(\"div\",class_='body').find('time',itemprop='datePublished') is None):\n",
    "            date.append(None)\n",
    "        else:\n",
    "            date.append(article.find(\"div\",class_='body').find('time',itemprop='datePublished')['datetime'])\n",
    "        if(re.search(r\".*(\\(.*\\)).*\",article.find(\"div\",class_='body').find('h3').text.strip()) is None):\n",
    "            place.append(None)\n",
    "        else: \n",
    "            place.append(re.search(r\".*(\\(.*\\)).*\",article.find(\"div\",class_='body').find('h3').text.strip()).group(1).strip('()'))\n",
    "        content.append(article.find(\"div\",class_='text_content').text.strip())\n",
    "        tr= article.find(\"div\",class_='body').find('table', class_='review-ratings').findAll(lambda tag: tag.name=='tr')\n",
    "        table_dict={}\n",
    "        for row in tr:\n",
    "            key= row.find('td',attrs={'class':re.compile('review-rating-header.*')}).text\n",
    "            if(row.find('td',class_='review-value')==None):\n",
    "                if(not [i.text for i in row.find('td',attrs={'class':re.compile('review-rating-stars.*')}).findAll('span',class_='star fill')]):\n",
    "                    value=None\n",
    "                else:\n",
    "                    value=max([i.text for i in row.find('td',attrs={'class':re.compile('review-rating-stars.*')}).findAll('span',class_='star fill')])\n",
    "            else:\n",
    "                value= row.find('td',class_='review-value').text\n",
    "            table_dict[key]=value\n",
    "        collect.append(table_dict)\n",
    "    next_article=soup.find('article', class_='comp comp_reviews-pagination querylist-pagination position-')\n",
    "    c+=1\n",
    "    next_url=\"https://www.airlinequality.com\"+\"/airline-reviews/british-airways/page/\"+str(c)+\"/\"\n",
    "    urls.append(next_url)\n",
    "    page= requests.get(next_url)\n",
    "    soup= BeautifulSoup(page.content,\"html.parser\")\n",
    "    if(c==367):\n",
    "        break"
   ]
  },
  {
   "cell_type": "code",
   "execution_count": 4,
   "id": "a8971e38",
   "metadata": {},
   "outputs": [],
   "source": [
    "import pandas as pd\n",
    "import numpy as np"
   ]
  },
  {
   "cell_type": "code",
   "execution_count": 5,
   "id": "a7d86f28",
   "metadata": {},
   "outputs": [],
   "source": [
    "airline_review = pd.DataFrame({\"rating\":rating, \n",
    "                               \"header\":header, \n",
    "                               \"author\":author, \n",
    "                               \"date\":date,\n",
    "                               \"place\":place,\n",
    "                               \"content\":content, \n",
    "                               \"collect\":collect})"
   ]
  },
  {
   "cell_type": "code",
   "execution_count": 6,
   "id": "9230ba25",
   "metadata": {},
   "outputs": [],
   "source": [
    "airline_review.dropna(inplace=True)"
   ]
  },
  {
   "cell_type": "code",
   "execution_count": 7,
   "id": "838c2ca2",
   "metadata": {},
   "outputs": [],
   "source": [
    "airline_review.rating=airline_review.rating.astype(int)"
   ]
  },
  {
   "cell_type": "code",
   "execution_count": 8,
   "id": "c7cc8e8b",
   "metadata": {},
   "outputs": [],
   "source": [
    "airline_review.date=pd.to_datetime(airline_review.date)"
   ]
  },
  {
   "cell_type": "code",
   "execution_count": 29,
   "id": "0f18bad3",
   "metadata": {},
   "outputs": [],
   "source": [
    "new_airline_review=airline_review.merge(pd.json_normalize(airline_review.collect).rename(columns={\n",
    "    'Aircraft':'aircraft',\n",
    "    'Type Of Traveller':'traveller_type',\n",
    "    'Seat Type':'seat_type',\n",
    "    'Route':'route',\n",
    "    'Date Flown':'date_flown',\n",
    "    'Seat Comfort':'seat_comfort',\n",
    "    'Cabin Staff Service':'cabin_staff_service', \n",
    "    'Food & Beverages':'food_beverages',\n",
    "    'Ground Service':'ground_service',\n",
    "    'Value For Money':'value_for_money',\n",
    "    'Recommended':'recommended',\n",
    "    'Wifi & Connectivity':'wifi_connectivity',\n",
    "    'Inflight Entertainment':'entertainment'    \n",
    "}), left_index=True, right_index=True).drop(columns=['collect'])"
   ]
  },
  {
   "cell_type": "code",
   "execution_count": 33,
   "id": "bc8f06bb",
   "metadata": {},
   "outputs": [],
   "source": [
    "new_airline_review.content = new_airline_review.content.str.split('|').apply(lambda x: x[1] if len(x)>=2 else x[0])"
   ]
  },
  {
   "cell_type": "code",
   "execution_count": 34,
   "id": "78e129d1",
   "metadata": {},
   "outputs": [
    {
     "data": {
      "text/html": [
       "<div>\n",
       "<style scoped>\n",
       "    .dataframe tbody tr th:only-of-type {\n",
       "        vertical-align: middle;\n",
       "    }\n",
       "\n",
       "    .dataframe tbody tr th {\n",
       "        vertical-align: top;\n",
       "    }\n",
       "\n",
       "    .dataframe thead th {\n",
       "        text-align: right;\n",
       "    }\n",
       "</style>\n",
       "<table border=\"1\" class=\"dataframe\">\n",
       "  <thead>\n",
       "    <tr style=\"text-align: right;\">\n",
       "      <th></th>\n",
       "      <th>rating</th>\n",
       "      <th>header</th>\n",
       "      <th>author</th>\n",
       "      <th>date</th>\n",
       "      <th>place</th>\n",
       "      <th>content</th>\n",
       "      <th>aircraft</th>\n",
       "      <th>traveller_type</th>\n",
       "      <th>seat_type</th>\n",
       "      <th>route</th>\n",
       "      <th>date_flown</th>\n",
       "      <th>seat_comfort</th>\n",
       "      <th>cabin_staff_service</th>\n",
       "      <th>food_beverages</th>\n",
       "      <th>ground_service</th>\n",
       "      <th>value_for_money</th>\n",
       "      <th>recommended</th>\n",
       "      <th>wifi_connectivity</th>\n",
       "      <th>entertainment</th>\n",
       "    </tr>\n",
       "  </thead>\n",
       "  <tbody>\n",
       "    <tr>\n",
       "      <th>0</th>\n",
       "      <td>2</td>\n",
       "      <td>service was mediocre at best</td>\n",
       "      <td>Gary Storer</td>\n",
       "      <td>2023-10-03</td>\n",
       "      <td>United Kingdom</td>\n",
       "      <td>Just returned from Chicago, flew out 10 days ...</td>\n",
       "      <td>A380</td>\n",
       "      <td>Couple Leisure</td>\n",
       "      <td>Economy Class</td>\n",
       "      <td>Chicago to Manchester via Heathrow</td>\n",
       "      <td>October 2023</td>\n",
       "      <td>2</td>\n",
       "      <td>3</td>\n",
       "      <td>1</td>\n",
       "      <td>2</td>\n",
       "      <td>2</td>\n",
       "      <td>no</td>\n",
       "      <td>NaN</td>\n",
       "      <td>NaN</td>\n",
       "    </tr>\n",
       "    <tr>\n",
       "      <th>1</th>\n",
       "      <td>2</td>\n",
       "      <td>BA standards continue to decline</td>\n",
       "      <td>A Jensen</td>\n",
       "      <td>2023-10-02</td>\n",
       "      <td>United Kingdom</td>\n",
       "      <td>BA standards continue to decline every time ...</td>\n",
       "      <td>A320</td>\n",
       "      <td>Business</td>\n",
       "      <td>Business Class</td>\n",
       "      <td>London Heathrow to Munich</td>\n",
       "      <td>September 2023</td>\n",
       "      <td>2</td>\n",
       "      <td>1</td>\n",
       "      <td>2</td>\n",
       "      <td>1</td>\n",
       "      <td>1</td>\n",
       "      <td>no</td>\n",
       "      <td>1</td>\n",
       "      <td>NaN</td>\n",
       "    </tr>\n",
       "    <tr>\n",
       "      <th>2</th>\n",
       "      <td>2</td>\n",
       "      <td>won the race to the bottom\"</td>\n",
       "      <td>John Rockett</td>\n",
       "      <td>2023-10-02</td>\n",
       "      <td>United Kingdom</td>\n",
       "      <td>Awful. Business class check in queue just as...</td>\n",
       "      <td>A320</td>\n",
       "      <td>Couple Leisure</td>\n",
       "      <td>Business Class</td>\n",
       "      <td>Heathrow to Istanbul</td>\n",
       "      <td>September 2023</td>\n",
       "      <td>2</td>\n",
       "      <td>3</td>\n",
       "      <td>2</td>\n",
       "      <td>1</td>\n",
       "      <td>1</td>\n",
       "      <td>no</td>\n",
       "      <td>NaN</td>\n",
       "      <td>NaN</td>\n",
       "    </tr>\n",
       "    <tr>\n",
       "      <th>3</th>\n",
       "      <td>3</td>\n",
       "      <td>Not a reliable airline</td>\n",
       "      <td>Tatiana Bobrovskaya</td>\n",
       "      <td>2023-10-02</td>\n",
       "      <td>United Kingdom</td>\n",
       "      <td>Not a reliable airline. You cannot trust the...</td>\n",
       "      <td>A320</td>\n",
       "      <td>Business</td>\n",
       "      <td>Economy Class</td>\n",
       "      <td>London to Geneva</td>\n",
       "      <td>October 2023</td>\n",
       "      <td>4</td>\n",
       "      <td>4</td>\n",
       "      <td>2</td>\n",
       "      <td>1</td>\n",
       "      <td>1</td>\n",
       "      <td>no</td>\n",
       "      <td>NaN</td>\n",
       "      <td>NaN</td>\n",
       "    </tr>\n",
       "    <tr>\n",
       "      <th>4</th>\n",
       "      <td>1</td>\n",
       "      <td>It is a national disgrace</td>\n",
       "      <td>A Dawson</td>\n",
       "      <td>2023-09-30</td>\n",
       "      <td>United Kingdom</td>\n",
       "      <td>I take comfort in reading the last ten or so...</td>\n",
       "      <td>NaN</td>\n",
       "      <td>Couple Leisure</td>\n",
       "      <td>Business Class</td>\n",
       "      <td>Athens to London</td>\n",
       "      <td>September 2023</td>\n",
       "      <td>1</td>\n",
       "      <td>1</td>\n",
       "      <td>1</td>\n",
       "      <td>1</td>\n",
       "      <td>1</td>\n",
       "      <td>no</td>\n",
       "      <td>1</td>\n",
       "      <td>1</td>\n",
       "    </tr>\n",
       "  </tbody>\n",
       "</table>\n",
       "</div>"
      ],
      "text/plain": [
       "   rating                            header               author       date  \\\n",
       "0       2      service was mediocre at best          Gary Storer 2023-10-03   \n",
       "1       2  BA standards continue to decline             A Jensen 2023-10-02   \n",
       "2       2      won the race to the bottom\"          John Rockett 2023-10-02   \n",
       "3       3            Not a reliable airline  Tatiana Bobrovskaya 2023-10-02   \n",
       "4       1         It is a national disgrace             A Dawson 2023-09-30   \n",
       "\n",
       "            place                                            content aircraft  \\\n",
       "0  United Kingdom   Just returned from Chicago, flew out 10 days ...     A380   \n",
       "1  United Kingdom    BA standards continue to decline every time ...     A320   \n",
       "2  United Kingdom    Awful. Business class check in queue just as...     A320   \n",
       "3  United Kingdom    Not a reliable airline. You cannot trust the...     A320   \n",
       "4  United Kingdom    I take comfort in reading the last ten or so...      NaN   \n",
       "\n",
       "   traveller_type       seat_type                               route  \\\n",
       "0  Couple Leisure   Economy Class  Chicago to Manchester via Heathrow   \n",
       "1        Business  Business Class           London Heathrow to Munich   \n",
       "2  Couple Leisure  Business Class                Heathrow to Istanbul   \n",
       "3        Business   Economy Class                    London to Geneva   \n",
       "4  Couple Leisure  Business Class                    Athens to London   \n",
       "\n",
       "       date_flown seat_comfort cabin_staff_service food_beverages  \\\n",
       "0    October 2023            2                   3              1   \n",
       "1  September 2023            2                   1              2   \n",
       "2  September 2023            2                   3              2   \n",
       "3    October 2023            4                   4              2   \n",
       "4  September 2023            1                   1              1   \n",
       "\n",
       "  ground_service value_for_money recommended wifi_connectivity entertainment  \n",
       "0              2               2          no               NaN           NaN  \n",
       "1              1               1          no                 1           NaN  \n",
       "2              1               1          no               NaN           NaN  \n",
       "3              1               1          no               NaN           NaN  \n",
       "4              1               1          no                 1             1  "
      ]
     },
     "execution_count": 34,
     "metadata": {},
     "output_type": "execute_result"
    }
   ],
   "source": [
    "new_airline_review.head()"
   ]
  },
  {
   "cell_type": "code",
   "execution_count": 35,
   "id": "d5864851",
   "metadata": {},
   "outputs": [
    {
     "name": "stdout",
     "output_type": "stream",
     "text": [
      "<class 'pandas.core.frame.DataFrame'>\n",
      "Int64Index: 3648 entries, 0 to 3653\n",
      "Data columns (total 19 columns):\n",
      " #   Column               Non-Null Count  Dtype         \n",
      "---  ------               --------------  -----         \n",
      " 0   rating               3648 non-null   int32         \n",
      " 1   header               3648 non-null   object        \n",
      " 2   author               3648 non-null   object        \n",
      " 3   date                 3648 non-null   datetime64[ns]\n",
      " 4   place                3648 non-null   object        \n",
      " 5   content              3648 non-null   object        \n",
      " 6   aircraft             1902 non-null   object        \n",
      " 7   traveller_type       2895 non-null   object        \n",
      " 8   seat_type            3646 non-null   object        \n",
      " 9   route                2891 non-null   object        \n",
      " 10  date_flown           2888 non-null   object        \n",
      " 11  seat_comfort         3534 non-null   object        \n",
      " 12  cabin_staff_service  3523 non-null   object        \n",
      " 13  food_beverages       3269 non-null   object        \n",
      " 14  ground_service       2820 non-null   object        \n",
      " 15  value_for_money      3647 non-null   object        \n",
      " 16  recommended          3648 non-null   object        \n",
      " 17  wifi_connectivity    596 non-null    object        \n",
      " 18  entertainment        2518 non-null   object        \n",
      "dtypes: datetime64[ns](1), int32(1), object(17)\n",
      "memory usage: 555.8+ KB\n"
     ]
    }
   ],
   "source": [
    "new_airline_review.info()"
   ]
  },
  {
   "cell_type": "code",
   "execution_count": 37,
   "id": "8fcf4382",
   "metadata": {},
   "outputs": [
    {
     "data": {
      "text/plain": [
       "4.728344298245614"
      ]
     },
     "execution_count": 37,
     "metadata": {},
     "output_type": "execute_result"
    }
   ],
   "source": [
    "new_airline_review.rating.mean()"
   ]
  },
  {
   "cell_type": "code",
   "execution_count": 40,
   "id": "00360afe",
   "metadata": {},
   "outputs": [],
   "source": [
    "new_airline_review['trip_verified']=airline_review.content.str.split('|').apply(lambda x: x[0] if len(x)>=2 else None)"
   ]
  },
  {
   "cell_type": "code",
   "execution_count": 43,
   "id": "cd429a68",
   "metadata": {},
   "outputs": [],
   "source": [
    "new_airline_review.drop(columns={'wifi_connectivity'}, inplace=True)"
   ]
  },
  {
   "cell_type": "code",
   "execution_count": 46,
   "id": "32c38b30",
   "metadata": {},
   "outputs": [],
   "source": [
    "new_airline_review.date_flown = pd.to_datetime(new_airline_review.date_flown)"
   ]
  },
  {
   "cell_type": "code",
   "execution_count": 49,
   "id": "5809f936",
   "metadata": {},
   "outputs": [],
   "source": [
    "new_airline_review.seat_comfort=new_airline_review.seat_comfort.fillna(-1)\n",
    "new_airline_review.seat_comfort=new_airline_review.seat_comfort.astype(int)\n",
    "new_airline_review.cabin_staff_service=new_airline_review.cabin_staff_service.fillna(-1)\n",
    "new_airline_review.cabin_staff_service=new_airline_review.cabin_staff_service.astype(int)\n",
    "new_airline_review.food_beverages=new_airline_review.food_beverages.fillna(-1)\n",
    "new_airline_review.food_beverages=new_airline_review.food_beverages.astype(int)\n",
    "new_airline_review.ground_service=new_airline_review.ground_service.fillna(-1)\n",
    "new_airline_review.ground_service=new_airline_review.ground_service.astype(int)\n",
    "new_airline_review.value_for_money=new_airline_review.value_for_money.fillna(-1)\n",
    "new_airline_review.value_for_money=new_airline_review.value_for_money.astype(int)\n",
    "new_airline_review.entertainment=new_airline_review.entertainment.fillna(-1)\n",
    "new_airline_review.entertainment=new_airline_review.entertainment.astype(int)"
   ]
  },
  {
   "cell_type": "code",
   "execution_count": 50,
   "id": "95026bad",
   "metadata": {},
   "outputs": [
    {
     "name": "stdout",
     "output_type": "stream",
     "text": [
      "<class 'pandas.core.frame.DataFrame'>\n",
      "Int64Index: 3648 entries, 0 to 3653\n",
      "Data columns (total 19 columns):\n",
      " #   Column               Non-Null Count  Dtype         \n",
      "---  ------               --------------  -----         \n",
      " 0   rating               3648 non-null   int32         \n",
      " 1   header               3648 non-null   object        \n",
      " 2   author               3648 non-null   object        \n",
      " 3   date                 3648 non-null   datetime64[ns]\n",
      " 4   place                3648 non-null   object        \n",
      " 5   content              3648 non-null   object        \n",
      " 6   aircraft             1902 non-null   object        \n",
      " 7   traveller_type       2895 non-null   object        \n",
      " 8   seat_type            3646 non-null   object        \n",
      " 9   route                2891 non-null   object        \n",
      " 10  date_flown           2888 non-null   datetime64[ns]\n",
      " 11  seat_comfort         3648 non-null   int32         \n",
      " 12  cabin_staff_service  3648 non-null   int32         \n",
      " 13  food_beverages       3648 non-null   int32         \n",
      " 14  ground_service       3648 non-null   int32         \n",
      " 15  value_for_money      3648 non-null   int32         \n",
      " 16  recommended          3648 non-null   object        \n",
      " 17  entertainment        3648 non-null   int32         \n",
      " 18  trip_verified        2144 non-null   object        \n",
      "dtypes: datetime64[ns](2), int32(7), object(10)\n",
      "memory usage: 470.2+ KB\n"
     ]
    }
   ],
   "source": [
    "new_airline_review.info()"
   ]
  },
  {
   "cell_type": "code",
   "execution_count": 53,
   "id": "869a0371",
   "metadata": {},
   "outputs": [
    {
     "data": {
      "text/html": [
       "<div>\n",
       "<style scoped>\n",
       "    .dataframe tbody tr th:only-of-type {\n",
       "        vertical-align: middle;\n",
       "    }\n",
       "\n",
       "    .dataframe tbody tr th {\n",
       "        vertical-align: top;\n",
       "    }\n",
       "\n",
       "    .dataframe thead th {\n",
       "        text-align: right;\n",
       "    }\n",
       "</style>\n",
       "<table border=\"1\" class=\"dataframe\">\n",
       "  <thead>\n",
       "    <tr style=\"text-align: right;\">\n",
       "      <th></th>\n",
       "      <th>rating</th>\n",
       "      <th>header</th>\n",
       "      <th>author</th>\n",
       "      <th>date</th>\n",
       "      <th>place</th>\n",
       "      <th>content</th>\n",
       "      <th>aircraft</th>\n",
       "      <th>traveller_type</th>\n",
       "      <th>seat_type</th>\n",
       "      <th>route</th>\n",
       "      <th>date_flown</th>\n",
       "      <th>seat_comfort</th>\n",
       "      <th>cabin_staff_service</th>\n",
       "      <th>food_beverages</th>\n",
       "      <th>ground_service</th>\n",
       "      <th>value_for_money</th>\n",
       "      <th>recommended</th>\n",
       "      <th>entertainment</th>\n",
       "      <th>trip_verified</th>\n",
       "    </tr>\n",
       "  </thead>\n",
       "  <tbody>\n",
       "    <tr>\n",
       "      <th>0</th>\n",
       "      <td>2</td>\n",
       "      <td>service was mediocre at best</td>\n",
       "      <td>Gary Storer</td>\n",
       "      <td>2023-10-03</td>\n",
       "      <td>United Kingdom</td>\n",
       "      <td>Just returned from Chicago, flew out 10 days ...</td>\n",
       "      <td>A380</td>\n",
       "      <td>Couple Leisure</td>\n",
       "      <td>Economy Class</td>\n",
       "      <td>Chicago to Manchester via Heathrow</td>\n",
       "      <td>2023-10-01</td>\n",
       "      <td>2</td>\n",
       "      <td>3</td>\n",
       "      <td>1</td>\n",
       "      <td>2</td>\n",
       "      <td>2</td>\n",
       "      <td>no</td>\n",
       "      <td>-1</td>\n",
       "      <td>Not Verified</td>\n",
       "    </tr>\n",
       "    <tr>\n",
       "      <th>1</th>\n",
       "      <td>2</td>\n",
       "      <td>BA standards continue to decline</td>\n",
       "      <td>A Jensen</td>\n",
       "      <td>2023-10-02</td>\n",
       "      <td>United Kingdom</td>\n",
       "      <td>BA standards continue to decline every time ...</td>\n",
       "      <td>A320</td>\n",
       "      <td>Business</td>\n",
       "      <td>Business Class</td>\n",
       "      <td>London Heathrow to Munich</td>\n",
       "      <td>2023-09-01</td>\n",
       "      <td>2</td>\n",
       "      <td>1</td>\n",
       "      <td>2</td>\n",
       "      <td>1</td>\n",
       "      <td>1</td>\n",
       "      <td>no</td>\n",
       "      <td>-1</td>\n",
       "      <td>✅ Trip Verified</td>\n",
       "    </tr>\n",
       "    <tr>\n",
       "      <th>2</th>\n",
       "      <td>2</td>\n",
       "      <td>won the race to the bottom\"</td>\n",
       "      <td>John Rockett</td>\n",
       "      <td>2023-10-02</td>\n",
       "      <td>United Kingdom</td>\n",
       "      <td>Awful. Business class check in queue just as...</td>\n",
       "      <td>A320</td>\n",
       "      <td>Couple Leisure</td>\n",
       "      <td>Business Class</td>\n",
       "      <td>Heathrow to Istanbul</td>\n",
       "      <td>2023-09-01</td>\n",
       "      <td>2</td>\n",
       "      <td>3</td>\n",
       "      <td>2</td>\n",
       "      <td>1</td>\n",
       "      <td>1</td>\n",
       "      <td>no</td>\n",
       "      <td>-1</td>\n",
       "      <td>Not Verified</td>\n",
       "    </tr>\n",
       "    <tr>\n",
       "      <th>3</th>\n",
       "      <td>3</td>\n",
       "      <td>Not a reliable airline</td>\n",
       "      <td>Tatiana Bobrovskaya</td>\n",
       "      <td>2023-10-02</td>\n",
       "      <td>United Kingdom</td>\n",
       "      <td>Not a reliable airline. You cannot trust the...</td>\n",
       "      <td>A320</td>\n",
       "      <td>Business</td>\n",
       "      <td>Economy Class</td>\n",
       "      <td>London to Geneva</td>\n",
       "      <td>2023-10-01</td>\n",
       "      <td>4</td>\n",
       "      <td>4</td>\n",
       "      <td>2</td>\n",
       "      <td>1</td>\n",
       "      <td>1</td>\n",
       "      <td>no</td>\n",
       "      <td>-1</td>\n",
       "      <td>✅ Trip Verified</td>\n",
       "    </tr>\n",
       "    <tr>\n",
       "      <th>4</th>\n",
       "      <td>1</td>\n",
       "      <td>It is a national disgrace</td>\n",
       "      <td>A Dawson</td>\n",
       "      <td>2023-09-30</td>\n",
       "      <td>United Kingdom</td>\n",
       "      <td>I take comfort in reading the last ten or so...</td>\n",
       "      <td>NaN</td>\n",
       "      <td>Couple Leisure</td>\n",
       "      <td>Business Class</td>\n",
       "      <td>Athens to London</td>\n",
       "      <td>2023-09-01</td>\n",
       "      <td>1</td>\n",
       "      <td>1</td>\n",
       "      <td>1</td>\n",
       "      <td>1</td>\n",
       "      <td>1</td>\n",
       "      <td>no</td>\n",
       "      <td>1</td>\n",
       "      <td>✅ Trip Verified</td>\n",
       "    </tr>\n",
       "  </tbody>\n",
       "</table>\n",
       "</div>"
      ],
      "text/plain": [
       "   rating                            header               author       date  \\\n",
       "0       2      service was mediocre at best          Gary Storer 2023-10-03   \n",
       "1       2  BA standards continue to decline             A Jensen 2023-10-02   \n",
       "2       2      won the race to the bottom\"          John Rockett 2023-10-02   \n",
       "3       3            Not a reliable airline  Tatiana Bobrovskaya 2023-10-02   \n",
       "4       1         It is a national disgrace             A Dawson 2023-09-30   \n",
       "\n",
       "            place                                            content aircraft  \\\n",
       "0  United Kingdom   Just returned from Chicago, flew out 10 days ...     A380   \n",
       "1  United Kingdom    BA standards continue to decline every time ...     A320   \n",
       "2  United Kingdom    Awful. Business class check in queue just as...     A320   \n",
       "3  United Kingdom    Not a reliable airline. You cannot trust the...     A320   \n",
       "4  United Kingdom    I take comfort in reading the last ten or so...      NaN   \n",
       "\n",
       "   traveller_type       seat_type                               route  \\\n",
       "0  Couple Leisure   Economy Class  Chicago to Manchester via Heathrow   \n",
       "1        Business  Business Class           London Heathrow to Munich   \n",
       "2  Couple Leisure  Business Class                Heathrow to Istanbul   \n",
       "3        Business   Economy Class                    London to Geneva   \n",
       "4  Couple Leisure  Business Class                    Athens to London   \n",
       "\n",
       "  date_flown  seat_comfort  cabin_staff_service  food_beverages  \\\n",
       "0 2023-10-01             2                    3               1   \n",
       "1 2023-09-01             2                    1               2   \n",
       "2 2023-09-01             2                    3               2   \n",
       "3 2023-10-01             4                    4               2   \n",
       "4 2023-09-01             1                    1               1   \n",
       "\n",
       "   ground_service  value_for_money recommended  entertainment  \\\n",
       "0               2                2          no             -1   \n",
       "1               1                1          no             -1   \n",
       "2               1                1          no             -1   \n",
       "3               1                1          no             -1   \n",
       "4               1                1          no              1   \n",
       "\n",
       "      trip_verified  \n",
       "0     Not Verified   \n",
       "1  ✅ Trip Verified   \n",
       "2     Not Verified   \n",
       "3  ✅ Trip Verified   \n",
       "4  ✅ Trip Verified   "
      ]
     },
     "execution_count": 53,
     "metadata": {},
     "output_type": "execute_result"
    }
   ],
   "source": [
    "new_airline_review.head()"
   ]
  },
  {
   "cell_type": "code",
   "execution_count": 51,
   "id": "b4c7600e",
   "metadata": {},
   "outputs": [
    {
     "data": {
      "text/plain": [
       "4.728344298245614"
      ]
     },
     "execution_count": 51,
     "metadata": {},
     "output_type": "execute_result"
    }
   ],
   "source": [
    "new_airline_review.rating.mean()"
   ]
  },
  {
   "cell_type": "code",
   "execution_count": 55,
   "id": "a4829b45",
   "metadata": {},
   "outputs": [
    {
     "data": {
      "text/plain": [
       "array(['Not Verified ', '✅ Trip Verified ', '❎ Not Verified ', None,\n",
       "       '✅ Verified Review ', '❎ Unverified ',\n",
       "       'We travelled economy from Manchester to Toronto via Heathrow The flight from Manchester to Heathrow and return was very good. The seats had plenty of room and it was easy to fit laptop size briefcases under the seat in front and still have room to stretch your legs. The service from the cabin crew was excellent. The leg from Heathrow to Toronto was not as comfortable but it was acceptable. The seats appeared narrower and my case only just fit under the seat leaving little room to stretch my legs. Whilst the cabin crew forgot requests for drinks they apologised and were very friendly and helpful in other aspects. Unfortunately BA were let down by the attendants on the return leg from Toronto to Heathrow. Whilst the aircraft appeared newer and more comfortable I have never experienced such surly behaviour from the cabin crew. We had seen attendants in the opposite aisle offering passengers water from trays they were carrying but the attendants down our aisle did not do this. The lady in the seat next to me asked for a glass of water before take off. The steward was quite off hand and said he would bring her one in a minute. He did not do this and when she asked again she was told in a very rude manner that take off procedures took priority otherwise non of us were going anywhere. Even after take off she had to ask again. When they served dinner my daughter did not want a meal but she asked if she could just have the bottle of water that was served with it. The steward said that if she did not want the meal she could not have the water but that he would bring her some in a glass later. This had not appeared by the time I had finished eating my meal so I gave her the bottle from mine (My daughter has a medical condition that requires her to drink water frequently throughout the day) Shortly before landing we were served a muffin and a drink. The passengers on the other aisle were served about 15 mins earlier and they were handed paper napkins and cutlery whilst when we were served we were simply handed the muffin wrapped in cellophane but no plate or napkin to catch the crumbs. I asked for a glass of orange and a tea (as I had not drunk anything on the 6 hour flight). The attendant scowled at me and then gave me half a glass of orange and half a cup of tea (which was cold'],\n",
       "      dtype=object)"
      ]
     },
     "execution_count": 55,
     "metadata": {},
     "output_type": "execute_result"
    }
   ],
   "source": [
    "new_airline_review.trip_verified.unique()"
   ]
  },
  {
   "cell_type": "code",
   "execution_count": 69,
   "id": "b7565386",
   "metadata": {},
   "outputs": [
    {
     "data": {
      "text/plain": [
       "3283    [We travelled economy from Manchester to Toron...\n",
       "3290    [We travelled economy from Manchester to Toron...\n",
       "Name: content, dtype: object"
      ]
     },
     "execution_count": 69,
     "metadata": {},
     "output_type": "execute_result"
    }
   ],
   "source": [
    "airline_review[airline_review.content.str.contains(\"We travelled economy from Manchester\")]['content'].str.split('|').apply(lambda x:x)"
   ]
  },
  {
   "cell_type": "code",
   "execution_count": 73,
   "id": "1747f83b",
   "metadata": {},
   "outputs": [],
   "source": [
    "new_airline_review.loc[3283,'content']=new_airline_review.loc[3283,'content']+new_airline_review.loc[3283,'trip_verified']\n",
    "new_airline_review.loc[3290,'content']=new_airline_review.loc[3290,'content']+new_airline_review.loc[3290,'trip_verified']"
   ]
  },
  {
   "cell_type": "code",
   "execution_count": 74,
   "id": "3af22592",
   "metadata": {},
   "outputs": [],
   "source": [
    "new_airline_review.loc[3283,'trip_verified']=None\n",
    "new_airline_review.loc[3290,'trip_verified']=None"
   ]
  },
  {
   "cell_type": "code",
   "execution_count": 84,
   "id": "07968e06",
   "metadata": {},
   "outputs": [
    {
     "data": {
      "text/plain": [
       "✅ Trip Verified       1129\n",
       "✅ Verified Review      770\n",
       "Not Verified           218\n",
       "❎ Unverified            20\n",
       "❎ Not Verified           5\n",
       "Name: trip_verified, dtype: int64"
      ]
     },
     "execution_count": 84,
     "metadata": {},
     "output_type": "execute_result"
    }
   ],
   "source": [
    "new_airline_review.trip_verified.value_counts()"
   ]
  },
  {
   "cell_type": "code",
   "execution_count": 85,
   "id": "ff8b9faa",
   "metadata": {},
   "outputs": [],
   "source": [
    "def clean_trip(x):\n",
    "    if(x=='Not Verified ' or x=='❎ Not Verified ' or x=='❎ Unverified '):\n",
    "        return 'Not Verified'\n",
    "    elif(x=='✅ Trip Verified ' or x=='✅ Verified Review '):\n",
    "        return 'Verified'\n",
    "    else:\n",
    "        return None\n",
    "\n",
    "new_airline_review.trip_verified=new_airline_review.trip_verified.apply(clean_trip)"
   ]
  },
  {
   "cell_type": "code",
   "execution_count": 86,
   "id": "600c122e",
   "metadata": {},
   "outputs": [
    {
     "data": {
      "text/plain": [
       "Index(['rating', 'header', 'author', 'date', 'place', 'content', 'aircraft',\n",
       "       'traveller_type', 'seat_type', 'route', 'date_flown', 'seat_comfort',\n",
       "       'cabin_staff_service', 'food_beverages', 'ground_service',\n",
       "       'value_for_money', 'recommended', 'entertainment', 'trip_verified'],\n",
       "      dtype='object')"
      ]
     },
     "execution_count": 86,
     "metadata": {},
     "output_type": "execute_result"
    }
   ],
   "source": [
    "new_airline_review.columns"
   ]
  },
  {
   "cell_type": "code",
   "execution_count": 107,
   "id": "3c4a13b2",
   "metadata": {},
   "outputs": [],
   "source": [
    "new_airline_review.drop_duplicates(inplace=True)"
   ]
  },
  {
   "cell_type": "code",
   "execution_count": 108,
   "id": "c05079d2",
   "metadata": {},
   "outputs": [
    {
     "name": "stdout",
     "output_type": "stream",
     "text": [
      "<class 'pandas.core.frame.DataFrame'>\n",
      "Int64Index: 3616 entries, 0 to 3653\n",
      "Data columns (total 19 columns):\n",
      " #   Column               Non-Null Count  Dtype         \n",
      "---  ------               --------------  -----         \n",
      " 0   rating               3616 non-null   int32         \n",
      " 1   header               3616 non-null   object        \n",
      " 2   author               3616 non-null   object        \n",
      " 3   date                 3616 non-null   datetime64[ns]\n",
      " 4   place                3616 non-null   object        \n",
      " 5   content              3616 non-null   object        \n",
      " 6   aircraft             1902 non-null   object        \n",
      " 7   traveller_type       2895 non-null   object        \n",
      " 8   seat_type            3614 non-null   object        \n",
      " 9   route                2891 non-null   object        \n",
      " 10  date_flown           2888 non-null   datetime64[ns]\n",
      " 11  seat_comfort         3616 non-null   int32         \n",
      " 12  cabin_staff_service  3616 non-null   int32         \n",
      " 13  food_beverages       3616 non-null   int32         \n",
      " 14  ground_service       3616 non-null   int32         \n",
      " 15  value_for_money      3616 non-null   int32         \n",
      " 16  recommended          3616 non-null   object        \n",
      " 17  entertainment        3616 non-null   int32         \n",
      " 18  trip_verified        2142 non-null   object        \n",
      "dtypes: datetime64[ns](2), int32(7), object(10)\n",
      "memory usage: 466.1+ KB\n"
     ]
    }
   ],
   "source": [
    "new_airline_review.info()"
   ]
  },
  {
   "cell_type": "code",
   "execution_count": 110,
   "id": "b0a14561",
   "metadata": {},
   "outputs": [],
   "source": [
    "new_airline_review.to_csv(\"E:/BA/airline_review.csv\")"
   ]
  }
 ],
 "metadata": {
  "kernelspec": {
   "display_name": "Python 3 (ipykernel)",
   "language": "python",
   "name": "python3"
  },
  "language_info": {
   "codemirror_mode": {
    "name": "ipython",
    "version": 3
   },
   "file_extension": ".py",
   "mimetype": "text/x-python",
   "name": "python",
   "nbconvert_exporter": "python",
   "pygments_lexer": "ipython3",
   "version": "3.11.4"
  }
 },
 "nbformat": 4,
 "nbformat_minor": 5
}
